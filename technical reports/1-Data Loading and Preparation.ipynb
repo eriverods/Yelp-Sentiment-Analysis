{
 "cells": [
  {
   "cell_type": "markdown",
   "id": "eea3bea8-3c5c-4396-8c32-eb638336300b",
   "metadata": {},
   "source": [
    "# Data Loading and Preparation\n",
    "In this section, we load the Yelp dataset, focusing on the business and review information for Asian cuisine restaurants in Canada. \n",
    "\n",
    "## Goals\n",
    "- Load the business and review datasets efficiently.\n",
    "- Filter the data to target mid-range rating (3-3.5 stars) for Asian cuisine restaurants.\n",
    "\n",
    "## Steps\n",
    "1. **Data Import**: Load JSON data from Yelp, including business and review files.\n",
    "2. **Filtering Data**: Filter the dataset to include only Canadian restaurants that offer Asian cuisine.\n",
    "3. **Initial Data Exploration**: Inspect data structure, column types, and missing values to understand the dataset better.\n"
   ]
  },
  {
   "cell_type": "code",
   "execution_count": null,
   "id": "8c5ccf7b-96a7-46bb-8d1b-93ec71323fbb",
   "metadata": {},
   "outputs": [],
   "source": [
    "import pandas as pd\n",
    "\n",
    "# Load the Yelp business data\n",
    "businesses = pd.read_json('yelp_academic_dataset_business.json', lines=True)\n",
    "\n",
    "# Define Canadian provinces and Asian cuisine keywords for filtering\n",
    "canadian_provinces = ['ON', 'QC', 'BC', 'AB', 'MB', 'SK', 'NS', 'NB', 'NL', 'PE', 'NT', 'NU', 'YT']\n",
    "asian_cuisine_keywords = ['Chinese', 'Japanese', 'Korean', 'Thai', 'Vietnamese', 'Indian', 'Filipino', 'Malaysian', 'Asian Fusion', 'Sushi Bars', 'Dim Sum', 'Ramen']\n",
    "\n",
    "# Filter businesses located in Canada and in the Asian cuisine category\n",
    "canadian_asian_businesses = businesses[\n",
    "    (businesses['state'].isin(canadian_provinces)) &\n",
    "    (businesses['categories'].str.contains('|'.join(asian_cuisine_keywords), case=False, na=False))\n",
    "]\n",
    "\n",
    "# Further filter businesses with an overall rating between 3 and 3.5 stars\n",
    "mid_range_businesses = canadian_asian_businesses[(canadian_asian_businesses['stars'] >= 3) & \n",
    "                                                 (canadian_asian_businesses['stars'] <= 3.5)]\n",
    "\n",
    "# Get the list of business IDs for restaurants with an average rating of 3 to 3.5 stars\n",
    "business_ids = mid_range_businesses['business_id'].tolist()"
   ]
  },
  {
   "cell_type": "code",
   "execution_count": null,
   "id": "5a7c67cb-6fbe-441f-9399-0b050b1f679d",
   "metadata": {},
   "outputs": [],
   "source": [
    "# Load review data in chunks to filter for relevant business IDs\n",
    "reviews = pd.read_json('yelp_academic_dataset_review.json', lines=True, chunksize=100000)\n",
    "\n",
    "# List to store filtered reviews from each chunk\n",
    "filtered_reviews_list = []\n",
    "\n",
    "# Filter reviews for the selected business IDs\n",
    "for chunk in reviews:\n",
    "    filtered_chunk = chunk[chunk['business_id'].isin(business_ids)]\n",
    "    filtered_reviews_list.append(filtered_chunk)\n",
    "\n",
    "# Combine all filtered review chunks into a single DataFrame\n",
    "filtered_reviews = pd.concat(filtered_reviews_list, ignore_index=True)\n",
    "\n",
    "# Show a sample of the filtered reviews to confirm the filtering worked\n",
    "print(\"Sample of reviews for mid-range businesses:\")\n",
    "print(filtered_reviews[['business_id', 'stars', 'text']].head())"
   ]
  },
  {
   "cell_type": "code",
   "execution_count": null,
   "id": "d906a326-9e5e-4c13-bffe-1a1623e94b6c",
   "metadata": {},
   "outputs": [],
   "source": [
    "# Save the filtered reviews for future use\n",
    "filtered_reviews.to_csv('filtered_mid_range_business_reviews.csv', index=False)"
   ]
  }
 ],
 "metadata": {
  "kernelspec": {
   "display_name": "Python 3 (ipykernel)",
   "language": "python",
   "name": "python3"
  },
  "language_info": {
   "codemirror_mode": {
    "name": "ipython",
    "version": 3
   },
   "file_extension": ".py",
   "mimetype": "text/x-python",
   "name": "python",
   "nbconvert_exporter": "python",
   "pygments_lexer": "ipython3",
   "version": "3.11.0"
  }
 },
 "nbformat": 4,
 "nbformat_minor": 5
}
